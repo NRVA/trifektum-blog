{
 "cells": [
  {
   "cell_type": "markdown",
   "metadata": {},
   "source": [
    "#### Get online data from Robert Shiller here: http://www.econ.yale.edu/~shiller/data.htm\n",
    "#### Innlegget mitt: https://www.trifektum.no/data/investering-i-aksjer-nar-inflasjon-er-hoy/"
   ]
  },
  {
   "cell_type": "markdown",
   "metadata": {},
   "source": [
    "### Trenger data for:\n",
    "- aksjeavkastning i real termer (S&P)\n",
    "- Inflasjon (USA)\n",
    "- Shiller PE i real termer (PE10)\n",
    "\n",
    "##### og videre beregne:\n",
    "- 1 års endring CPI\n",
    "- annualisert volatilitet aksjer\n",
    "- annualisert volatilitet inflasjon"
   ]
  },
  {
   "cell_type": "code",
   "execution_count": 1,
   "metadata": {},
   "outputs": [],
   "source": [
    "import pandas as pd\n",
    "import numpy as np\n",
    "import chart_studio\n",
    "import chart_studio.plotly as py\n",
    "import plotly.graph_objects as go"
   ]
  },
  {
   "cell_type": "code",
   "execution_count": 290,
   "metadata": {},
   "outputs": [],
   "source": [
    "df = pd.read_excel(\"http://www.econ.yale.edu/~shiller/data/ie_data.xls\", \n",
    "                   sheet_name='Data',\n",
    "                   skiprows = range(1,7),\n",
    "                   usecols = \"A:V\",\n",
    "                   header=1)"
   ]
  },
  {
   "cell_type": "code",
   "execution_count": 291,
   "metadata": {},
   "outputs": [
    {
     "data": {
      "text/html": [
       "<div>\n",
       "<style scoped>\n",
       "    .dataframe tbody tr th:only-of-type {\n",
       "        vertical-align: middle;\n",
       "    }\n",
       "\n",
       "    .dataframe tbody tr th {\n",
       "        vertical-align: top;\n",
       "    }\n",
       "\n",
       "    .dataframe thead th {\n",
       "        text-align: right;\n",
       "    }\n",
       "</style>\n",
       "<table border=\"1\" class=\"dataframe\">\n",
       "  <thead>\n",
       "    <tr style=\"text-align: right;\">\n",
       "      <th></th>\n",
       "      <th>Date</th>\n",
       "      <th>real price</th>\n",
       "      <th>Real TR Price</th>\n",
       "      <th>CPI</th>\n",
       "      <th>P/E 10</th>\n",
       "    </tr>\n",
       "  </thead>\n",
       "  <tbody>\n",
       "    <tr>\n",
       "      <th>0</th>\n",
       "      <td>1871-01</td>\n",
       "      <td>99.544176</td>\n",
       "      <td>99.544176</td>\n",
       "      <td>12.464061</td>\n",
       "      <td>NaN</td>\n",
       "    </tr>\n",
       "    <tr>\n",
       "      <th>1</th>\n",
       "      <td>1871-02</td>\n",
       "      <td>97.900067</td>\n",
       "      <td>98.371438</td>\n",
       "      <td>12.844641</td>\n",
       "      <td>NaN</td>\n",
       "    </tr>\n",
       "    <tr>\n",
       "      <th>2</th>\n",
       "      <td>1871-03</td>\n",
       "      <td>98.828746</td>\n",
       "      <td>99.771312</td>\n",
       "      <td>13.034972</td>\n",
       "      <td>NaN</td>\n",
       "    </tr>\n",
       "    <tr>\n",
       "      <th>3</th>\n",
       "      <td>1871-04</td>\n",
       "      <td>105.464891</td>\n",
       "      <td>106.957430</td>\n",
       "      <td>12.559226</td>\n",
       "      <td>NaN</td>\n",
       "    </tr>\n",
       "    <tr>\n",
       "      <th>4</th>\n",
       "      <td>1871-05</td>\n",
       "      <td>110.649454</td>\n",
       "      <td>112.715639</td>\n",
       "      <td>12.273812</td>\n",
       "      <td>NaN</td>\n",
       "    </tr>\n",
       "  </tbody>\n",
       "</table>\n",
       "</div>"
      ],
      "text/plain": [
       "      Date  real price  Real TR Price        CPI  P/E 10\n",
       "0  1871-01   99.544176      99.544176  12.464061     NaN\n",
       "1  1871-02   97.900067      98.371438  12.844641     NaN\n",
       "2  1871-03   98.828746      99.771312  13.034972     NaN\n",
       "3  1871-04  105.464891     106.957430  12.559226     NaN\n",
       "4  1871-05  110.649454     112.715639  12.273812     NaN"
      ]
     },
     "execution_count": 291,
     "metadata": {},
     "output_type": "execute_result"
    }
   ],
   "source": [
    "# Cleaning:\n",
    "\n",
    "df.dropna(subset=['Date'], inplace=True)\n",
    "df.rename(columns={\"Price\":\"real price\", \"Price.1\":\"Real TR Price\", \"TR CAPE\": \"P/E 10\"}, inplace=True)\n",
    "df['Date'] = pd.to_datetime(df['Date'].mul(100).astype(int), format='%Y%m').dt.to_period('m')\n",
    "\n",
    "df = df[[\"Date\", \"real price\", \"Real TR Price\", \"CPI\", \"P/E 10\"]]\n",
    "\n",
    "df.head()"
   ]
  },
  {
   "cell_type": "code",
   "execution_count": 292,
   "metadata": {},
   "outputs": [],
   "source": [
    "### BEREGNE NYE DATA\n",
    "df[\"CPI yoy\"] = df[\"CPI\"].pct_change(12) * 100\n",
    "\n",
    "df[\"Aksjer Vol.\"] = df[\"Real TR Price\"].pct_change()\n",
    "df[\"Aksjer Vol.\"] = (df[\"Aksjer Vol.\"].rolling(12).std() * np.sqrt(12))*100\n",
    "\n",
    "df[\"Infl. Vol. *\"] = df[\"CPI\"].pct_change()\n",
    "df[\"Infl. Vol. *\"] = (df[\"Infl. Vol. *\"].rolling(12).std() * np.sqrt(12))*100 * 5\n",
    "\n",
    "df.dropna(inplace=True)"
   ]
  },
  {
   "cell_type": "code",
   "execution_count": 293,
   "metadata": {},
   "outputs": [
    {
     "data": {
      "text/html": [
       "<div>\n",
       "<style scoped>\n",
       "    .dataframe tbody tr th:only-of-type {\n",
       "        vertical-align: middle;\n",
       "    }\n",
       "\n",
       "    .dataframe tbody tr th {\n",
       "        vertical-align: top;\n",
       "    }\n",
       "\n",
       "    .dataframe thead th {\n",
       "        text-align: right;\n",
       "    }\n",
       "</style>\n",
       "<table border=\"1\" class=\"dataframe\">\n",
       "  <thead>\n",
       "    <tr style=\"text-align: right;\">\n",
       "      <th></th>\n",
       "      <th>Date</th>\n",
       "      <th>real price</th>\n",
       "      <th>Real TR Price</th>\n",
       "      <th>CPI</th>\n",
       "      <th>P/E 10</th>\n",
       "      <th>CPI yoy</th>\n",
       "      <th>Aksjer Vol.</th>\n",
       "      <th>Infl. Vol. *</th>\n",
       "    </tr>\n",
       "  </thead>\n",
       "  <tbody>\n",
       "    <tr>\n",
       "      <th>120</th>\n",
       "      <td>1881-01</td>\n",
       "      <td>183.636477</td>\n",
       "      <td>3.397363e+02</td>\n",
       "      <td>9.419420</td>\n",
       "      <td>24.135057</td>\n",
       "      <td>-5.714633</td>\n",
       "      <td>10.677141</td>\n",
       "      <td>28.256563</td>\n",
       "    </tr>\n",
       "    <tr>\n",
       "      <th>121</th>\n",
       "      <td>1881-02</td>\n",
       "      <td>181.212339</td>\n",
       "      <td>3.364741e+02</td>\n",
       "      <td>9.514585</td>\n",
       "      <td>23.655503</td>\n",
       "      <td>-4.762059</td>\n",
       "      <td>11.237211</td>\n",
       "      <td>29.158643</td>\n",
       "    </tr>\n",
       "    <tr>\n",
       "      <th>122</th>\n",
       "      <td>1881-03</td>\n",
       "      <td>183.268233</td>\n",
       "      <td>3.415412e+02</td>\n",
       "      <td>9.514585</td>\n",
       "      <td>23.767713</td>\n",
       "      <td>-5.659953</td>\n",
       "      <td>11.219824</td>\n",
       "      <td>28.338685</td>\n",
       "    </tr>\n",
       "    <tr>\n",
       "      <th>123</th>\n",
       "      <td>1881-04</td>\n",
       "      <td>180.873272</td>\n",
       "      <td>3.383424e+02</td>\n",
       "      <td>9.609669</td>\n",
       "      <td>23.308850</td>\n",
       "      <td>-0.980597</td>\n",
       "      <td>11.678880</td>\n",
       "      <td>22.650466</td>\n",
       "    </tr>\n",
       "    <tr>\n",
       "      <th>124</th>\n",
       "      <td>1881-05</td>\n",
       "      <td>190.904409</td>\n",
       "      <td>3.584115e+02</td>\n",
       "      <td>9.514585</td>\n",
       "      <td>24.456686</td>\n",
       "      <td>1.010309</td>\n",
       "      <td>9.580874</td>\n",
       "      <td>17.409671</td>\n",
       "    </tr>\n",
       "    <tr>\n",
       "      <th>...</th>\n",
       "      <td>...</td>\n",
       "      <td>...</td>\n",
       "      <td>...</td>\n",
       "      <td>...</td>\n",
       "      <td>...</td>\n",
       "      <td>...</td>\n",
       "      <td>...</td>\n",
       "      <td>...</td>\n",
       "    </tr>\n",
       "    <tr>\n",
       "      <th>1809</th>\n",
       "      <td>2021-10</td>\n",
       "      <td>4506.727150</td>\n",
       "      <td>2.879192e+06</td>\n",
       "      <td>276.589000</td>\n",
       "      <td>40.638888</td>\n",
       "      <td>6.221869</td>\n",
       "      <td>6.534703</td>\n",
       "      <td>5.617948</td>\n",
       "    </tr>\n",
       "    <tr>\n",
       "      <th>1810</th>\n",
       "      <td>2021-11</td>\n",
       "      <td>4692.482762</td>\n",
       "      <td>3.001077e+06</td>\n",
       "      <td>277.948000</td>\n",
       "      <td>42.287407</td>\n",
       "      <td>6.809003</td>\n",
       "      <td>6.615392</td>\n",
       "      <td>4.705491</td>\n",
       "    </tr>\n",
       "    <tr>\n",
       "      <th>1811</th>\n",
       "      <td>2021-12</td>\n",
       "      <td>4685.512220</td>\n",
       "      <td>2.999845e+06</td>\n",
       "      <td>278.802000</td>\n",
       "      <td>42.197971</td>\n",
       "      <td>7.036403</td>\n",
       "      <td>6.367397</td>\n",
       "      <td>4.239004</td>\n",
       "    </tr>\n",
       "    <tr>\n",
       "      <th>1812</th>\n",
       "      <td>2022-01</td>\n",
       "      <td>4577.312664</td>\n",
       "      <td>2.930572e+06</td>\n",
       "      <td>281.148000</td>\n",
       "      <td>41.153302</td>\n",
       "      <td>7.479872</td>\n",
       "      <td>7.343874</td>\n",
       "      <td>4.364419</td>\n",
       "    </tr>\n",
       "    <tr>\n",
       "      <th>1813</th>\n",
       "      <td>2022-02</td>\n",
       "      <td>4589.380000</td>\n",
       "      <td>2.938298e+06</td>\n",
       "      <td>279.442500</td>\n",
       "      <td>41.191390</td>\n",
       "      <td>6.246245</td>\n",
       "      <td>7.338186</td>\n",
       "      <td>7.473638</td>\n",
       "    </tr>\n",
       "  </tbody>\n",
       "</table>\n",
       "<p>1694 rows × 8 columns</p>\n",
       "</div>"
      ],
      "text/plain": [
       "         Date   real price  Real TR Price         CPI     P/E 10   CPI yoy  \\\n",
       "120   1881-01   183.636477   3.397363e+02    9.419420  24.135057 -5.714633   \n",
       "121   1881-02   181.212339   3.364741e+02    9.514585  23.655503 -4.762059   \n",
       "122   1881-03   183.268233   3.415412e+02    9.514585  23.767713 -5.659953   \n",
       "123   1881-04   180.873272   3.383424e+02    9.609669  23.308850 -0.980597   \n",
       "124   1881-05   190.904409   3.584115e+02    9.514585  24.456686  1.010309   \n",
       "...       ...          ...            ...         ...        ...       ...   \n",
       "1809  2021-10  4506.727150   2.879192e+06  276.589000  40.638888  6.221869   \n",
       "1810  2021-11  4692.482762   3.001077e+06  277.948000  42.287407  6.809003   \n",
       "1811  2021-12  4685.512220   2.999845e+06  278.802000  42.197971  7.036403   \n",
       "1812  2022-01  4577.312664   2.930572e+06  281.148000  41.153302  7.479872   \n",
       "1813  2022-02  4589.380000   2.938298e+06  279.442500  41.191390  6.246245   \n",
       "\n",
       "      Aksjer Vol.  Infl. Vol. *  \n",
       "120     10.677141     28.256563  \n",
       "121     11.237211     29.158643  \n",
       "122     11.219824     28.338685  \n",
       "123     11.678880     22.650466  \n",
       "124      9.580874     17.409671  \n",
       "...           ...           ...  \n",
       "1809     6.534703      5.617948  \n",
       "1810     6.615392      4.705491  \n",
       "1811     6.367397      4.239004  \n",
       "1812     7.343874      4.364419  \n",
       "1813     7.338186      7.473638  \n",
       "\n",
       "[1694 rows x 8 columns]"
      ]
     },
     "execution_count": 293,
     "metadata": {},
     "output_type": "execute_result"
    }
   ],
   "source": [
    "df"
   ]
  },
  {
   "cell_type": "markdown",
   "metadata": {},
   "source": [
    "## Fordele PE10, Inflasjonsvol., og aksjevol i 12 like store kategorier"
   ]
  },
  {
   "cell_type": "code",
   "execution_count": 294,
   "metadata": {},
   "outputs": [
    {
     "data": {
      "text/html": [
       "<div>\n",
       "<style scoped>\n",
       "    .dataframe tbody tr th:only-of-type {\n",
       "        vertical-align: middle;\n",
       "    }\n",
       "\n",
       "    .dataframe tbody tr th {\n",
       "        vertical-align: top;\n",
       "    }\n",
       "\n",
       "    .dataframe thead th {\n",
       "        text-align: right;\n",
       "    }\n",
       "</style>\n",
       "<table border=\"1\" class=\"dataframe\">\n",
       "  <thead>\n",
       "    <tr style=\"text-align: right;\">\n",
       "      <th></th>\n",
       "      <th>Date</th>\n",
       "      <th>real price</th>\n",
       "      <th>Real TR Price</th>\n",
       "      <th>CPI</th>\n",
       "      <th>P/E 10</th>\n",
       "      <th>CPI yoy</th>\n",
       "      <th>Aksjer Vol.</th>\n",
       "      <th>Infl. Vol. *</th>\n",
       "      <th>cpi_bins</th>\n",
       "      <th>bin_mean</th>\n",
       "    </tr>\n",
       "  </thead>\n",
       "  <tbody>\n",
       "    <tr>\n",
       "      <th>120</th>\n",
       "      <td>1881-01</td>\n",
       "      <td>183.636477</td>\n",
       "      <td>3.397363e+02</td>\n",
       "      <td>9.419420</td>\n",
       "      <td>24.135057</td>\n",
       "      <td>-5.714633</td>\n",
       "      <td>10.677141</td>\n",
       "      <td>28.256563</td>\n",
       "      <td>1</td>\n",
       "      <td>-8.684369</td>\n",
       "    </tr>\n",
       "    <tr>\n",
       "      <th>121</th>\n",
       "      <td>1881-02</td>\n",
       "      <td>181.212339</td>\n",
       "      <td>3.364741e+02</td>\n",
       "      <td>9.514585</td>\n",
       "      <td>23.655503</td>\n",
       "      <td>-4.762059</td>\n",
       "      <td>11.237211</td>\n",
       "      <td>29.158643</td>\n",
       "      <td>2</td>\n",
       "      <td>-2.643742</td>\n",
       "    </tr>\n",
       "    <tr>\n",
       "      <th>122</th>\n",
       "      <td>1881-03</td>\n",
       "      <td>183.268233</td>\n",
       "      <td>3.415412e+02</td>\n",
       "      <td>9.514585</td>\n",
       "      <td>23.767713</td>\n",
       "      <td>-5.659953</td>\n",
       "      <td>11.219824</td>\n",
       "      <td>28.338685</td>\n",
       "      <td>1</td>\n",
       "      <td>-8.684369</td>\n",
       "    </tr>\n",
       "    <tr>\n",
       "      <th>123</th>\n",
       "      <td>1881-04</td>\n",
       "      <td>180.873272</td>\n",
       "      <td>3.383424e+02</td>\n",
       "      <td>9.609669</td>\n",
       "      <td>23.308850</td>\n",
       "      <td>-0.980597</td>\n",
       "      <td>11.678880</td>\n",
       "      <td>22.650466</td>\n",
       "      <td>3</td>\n",
       "      <td>-0.158944</td>\n",
       "    </tr>\n",
       "    <tr>\n",
       "      <th>124</th>\n",
       "      <td>1881-05</td>\n",
       "      <td>190.904409</td>\n",
       "      <td>3.584115e+02</td>\n",
       "      <td>9.514585</td>\n",
       "      <td>24.456686</td>\n",
       "      <td>1.010309</td>\n",
       "      <td>9.580874</td>\n",
       "      <td>17.409671</td>\n",
       "      <td>4</td>\n",
       "      <td>1.006730</td>\n",
       "    </tr>\n",
       "    <tr>\n",
       "      <th>...</th>\n",
       "      <td>...</td>\n",
       "      <td>...</td>\n",
       "      <td>...</td>\n",
       "      <td>...</td>\n",
       "      <td>...</td>\n",
       "      <td>...</td>\n",
       "      <td>...</td>\n",
       "      <td>...</td>\n",
       "      <td>...</td>\n",
       "      <td>...</td>\n",
       "    </tr>\n",
       "    <tr>\n",
       "      <th>1809</th>\n",
       "      <td>2021-10</td>\n",
       "      <td>4506.727150</td>\n",
       "      <td>2.879192e+06</td>\n",
       "      <td>276.589000</td>\n",
       "      <td>40.638888</td>\n",
       "      <td>6.221869</td>\n",
       "      <td>6.534703</td>\n",
       "      <td>5.617948</td>\n",
       "      <td>10</td>\n",
       "      <td>5.483000</td>\n",
       "    </tr>\n",
       "    <tr>\n",
       "      <th>1810</th>\n",
       "      <td>2021-11</td>\n",
       "      <td>4692.482762</td>\n",
       "      <td>3.001077e+06</td>\n",
       "      <td>277.948000</td>\n",
       "      <td>42.287407</td>\n",
       "      <td>6.809003</td>\n",
       "      <td>6.615392</td>\n",
       "      <td>4.705491</td>\n",
       "      <td>11</td>\n",
       "      <td>7.999781</td>\n",
       "    </tr>\n",
       "    <tr>\n",
       "      <th>1811</th>\n",
       "      <td>2021-12</td>\n",
       "      <td>4685.512220</td>\n",
       "      <td>2.999845e+06</td>\n",
       "      <td>278.802000</td>\n",
       "      <td>42.197971</td>\n",
       "      <td>7.036403</td>\n",
       "      <td>6.367397</td>\n",
       "      <td>4.239004</td>\n",
       "      <td>11</td>\n",
       "      <td>7.999781</td>\n",
       "    </tr>\n",
       "    <tr>\n",
       "      <th>1812</th>\n",
       "      <td>2022-01</td>\n",
       "      <td>4577.312664</td>\n",
       "      <td>2.930572e+06</td>\n",
       "      <td>281.148000</td>\n",
       "      <td>41.153302</td>\n",
       "      <td>7.479872</td>\n",
       "      <td>7.343874</td>\n",
       "      <td>4.364419</td>\n",
       "      <td>11</td>\n",
       "      <td>7.999781</td>\n",
       "    </tr>\n",
       "    <tr>\n",
       "      <th>1813</th>\n",
       "      <td>2022-02</td>\n",
       "      <td>4589.380000</td>\n",
       "      <td>2.938298e+06</td>\n",
       "      <td>279.442500</td>\n",
       "      <td>41.191390</td>\n",
       "      <td>6.246245</td>\n",
       "      <td>7.338186</td>\n",
       "      <td>7.473638</td>\n",
       "      <td>10</td>\n",
       "      <td>5.483000</td>\n",
       "    </tr>\n",
       "  </tbody>\n",
       "</table>\n",
       "<p>1694 rows × 10 columns</p>\n",
       "</div>"
      ],
      "text/plain": [
       "         Date   real price  Real TR Price         CPI     P/E 10   CPI yoy  \\\n",
       "120   1881-01   183.636477   3.397363e+02    9.419420  24.135057 -5.714633   \n",
       "121   1881-02   181.212339   3.364741e+02    9.514585  23.655503 -4.762059   \n",
       "122   1881-03   183.268233   3.415412e+02    9.514585  23.767713 -5.659953   \n",
       "123   1881-04   180.873272   3.383424e+02    9.609669  23.308850 -0.980597   \n",
       "124   1881-05   190.904409   3.584115e+02    9.514585  24.456686  1.010309   \n",
       "...       ...          ...            ...         ...        ...       ...   \n",
       "1809  2021-10  4506.727150   2.879192e+06  276.589000  40.638888  6.221869   \n",
       "1810  2021-11  4692.482762   3.001077e+06  277.948000  42.287407  6.809003   \n",
       "1811  2021-12  4685.512220   2.999845e+06  278.802000  42.197971  7.036403   \n",
       "1812  2022-01  4577.312664   2.930572e+06  281.148000  41.153302  7.479872   \n",
       "1813  2022-02  4589.380000   2.938298e+06  279.442500  41.191390  6.246245   \n",
       "\n",
       "      Aksjer Vol.  Infl. Vol. * cpi_bins  bin_mean  \n",
       "120     10.677141     28.256563        1 -8.684369  \n",
       "121     11.237211     29.158643        2 -2.643742  \n",
       "122     11.219824     28.338685        1 -8.684369  \n",
       "123     11.678880     22.650466        3 -0.158944  \n",
       "124      9.580874     17.409671        4  1.006730  \n",
       "...           ...           ...      ...       ...  \n",
       "1809     6.534703      5.617948       10  5.483000  \n",
       "1810     6.615392      4.705491       11  7.999781  \n",
       "1811     6.367397      4.239004       11  7.999781  \n",
       "1812     7.343874      4.364419       11  7.999781  \n",
       "1813     7.338186      7.473638       10  5.483000  \n",
       "\n",
       "[1694 rows x 10 columns]"
      ]
     },
     "execution_count": 294,
     "metadata": {},
     "output_type": "execute_result"
    }
   ],
   "source": [
    "temp_bin_labels = list(np.arange(1,13))\n",
    "\n",
    "df['cpi_bins'] = pd.qcut(df['CPI yoy'], \n",
    "                         q=12,\n",
    "                        labels=temp_bin_labels)\n",
    "\n",
    "\n",
    "df[\"bin_mean\"] = np.nan\n",
    "for i in temp_bin_labels:\n",
    "    label = df[df[\"cpi_bins\"] == i][\"CPI yoy\"].mean()   \n",
    "    df.loc[df['cpi_bins'] == i, 'bin_mean'] = label\n",
    "    \n",
    "df"
   ]
  },
  {
   "cell_type": "code",
   "execution_count": 314,
   "metadata": {},
   "outputs": [
    {
     "data": {
      "application/vnd.plotly.v1+json": {
       "config": {
        "plotlyServerURL": "https://plot.ly"
       },
       "data": [
        {
         "line": {
          "color": "#4582ec",
          "width": 2
         },
         "mode": "lines",
         "name": "Infl. Vol. *",
         "type": "scatter",
         "x": [
          -0.08684369134344908,
          -0.026437424929934675,
          -0.0015894385611002545,
          0.010067301564445299,
          0.01529419836576872,
          0.021133065512040954,
          0.026825339632643993,
          0.032465076278071006,
          0.040674313660241074,
          0.05483000197519483,
          0.07999780852386114,
          0.1403072542446764
         ],
         "y": [
          19.898798237054777,
          18.98385075716874,
          13.779651418258904,
          9.86563841289662,
          6.2042604260036605,
          7.255635167291821,
          7.693501141916393,
          6.429545087071432,
          7.442807038147666,
          10.837902412233934,
          13.531491217893818,
          15.266833802582244
         ]
        },
        {
         "line": {
          "color": "#f0ad4e",
          "width": 2
         },
         "mode": "lines",
         "name": "Aksjer Vol.",
         "type": "scatter",
         "x": [
          -0.08684369134344908,
          -0.026437424929934675,
          -0.0015894385611002545,
          0.010067301564445299,
          0.01529419836576872,
          0.021133065512040954,
          0.026825339632643993,
          0.032465076278071006,
          0.040674313660241074,
          0.05483000197519483,
          0.07999780852386114,
          0.1403072542446764
         ],
         "y": [
          18.09108256858491,
          15.127141513724375,
          12.121385817802402,
          11.228089899638318,
          11.445325816876307,
          10.77959653929308,
          9.290270108947011,
          9.974968234350884,
          11.747710357062857,
          11.713526841760583,
          11.052720563553372,
          13.058576937122709
         ]
        },
        {
         "line": {
          "color": "#02b875",
          "width": 2
         },
         "mode": "lines",
         "name": "P/E 10",
         "type": "scatter",
         "x": [
          -0.08684369134344908,
          -0.026437424929934675,
          -0.0015894385611002545,
          0.010067301564445299,
          0.01529419836576872,
          0.021133065512040954,
          0.026825339632643993,
          0.032465076278071006,
          0.040674313660241074,
          0.05483000197519483,
          0.07999780852386114,
          0.1403072542446764
         ],
         "y": [
          17.059420083835626,
          20.712627433681995,
          21.167602811126812,
          21.666493418748495,
          25.965344467502344,
          24.494025367836024,
          25.371440735044224,
          22.629083778273824,
          20.636423777067527,
          20.152472246787376,
          15.948007537318311,
          12.709188430650464
         ]
        }
       ],
       "layout": {
        "hoverdistance": 100,
        "hovermode": "x",
        "margin": {
         "b": 0,
         "l": 0,
         "r": 0,
         "t": 0
        },
        "paper_bgcolor": "rgba(0, 0, 0, 0)",
        "plot_bgcolor": "rgba(0,0,0,0)",
        "showlegend": false,
        "spikedistance": 1000,
        "template": {
         "data": {
          "bar": [
           {
            "error_x": {
             "color": "#2a3f5f"
            },
            "error_y": {
             "color": "#2a3f5f"
            },
            "marker": {
             "line": {
              "color": "#E5ECF6",
              "width": 0.5
             }
            },
            "type": "bar"
           }
          ],
          "barpolar": [
           {
            "marker": {
             "line": {
              "color": "#E5ECF6",
              "width": 0.5
             }
            },
            "type": "barpolar"
           }
          ],
          "carpet": [
           {
            "aaxis": {
             "endlinecolor": "#2a3f5f",
             "gridcolor": "white",
             "linecolor": "white",
             "minorgridcolor": "white",
             "startlinecolor": "#2a3f5f"
            },
            "baxis": {
             "endlinecolor": "#2a3f5f",
             "gridcolor": "white",
             "linecolor": "white",
             "minorgridcolor": "white",
             "startlinecolor": "#2a3f5f"
            },
            "type": "carpet"
           }
          ],
          "choropleth": [
           {
            "colorbar": {
             "outlinewidth": 0,
             "ticks": ""
            },
            "type": "choropleth"
           }
          ],
          "contour": [
           {
            "colorbar": {
             "outlinewidth": 0,
             "ticks": ""
            },
            "colorscale": [
             [
              0,
              "#0d0887"
             ],
             [
              0.1111111111111111,
              "#46039f"
             ],
             [
              0.2222222222222222,
              "#7201a8"
             ],
             [
              0.3333333333333333,
              "#9c179e"
             ],
             [
              0.4444444444444444,
              "#bd3786"
             ],
             [
              0.5555555555555556,
              "#d8576b"
             ],
             [
              0.6666666666666666,
              "#ed7953"
             ],
             [
              0.7777777777777778,
              "#fb9f3a"
             ],
             [
              0.8888888888888888,
              "#fdca26"
             ],
             [
              1,
              "#f0f921"
             ]
            ],
            "type": "contour"
           }
          ],
          "contourcarpet": [
           {
            "colorbar": {
             "outlinewidth": 0,
             "ticks": ""
            },
            "type": "contourcarpet"
           }
          ],
          "heatmap": [
           {
            "colorbar": {
             "outlinewidth": 0,
             "ticks": ""
            },
            "colorscale": [
             [
              0,
              "#0d0887"
             ],
             [
              0.1111111111111111,
              "#46039f"
             ],
             [
              0.2222222222222222,
              "#7201a8"
             ],
             [
              0.3333333333333333,
              "#9c179e"
             ],
             [
              0.4444444444444444,
              "#bd3786"
             ],
             [
              0.5555555555555556,
              "#d8576b"
             ],
             [
              0.6666666666666666,
              "#ed7953"
             ],
             [
              0.7777777777777778,
              "#fb9f3a"
             ],
             [
              0.8888888888888888,
              "#fdca26"
             ],
             [
              1,
              "#f0f921"
             ]
            ],
            "type": "heatmap"
           }
          ],
          "heatmapgl": [
           {
            "colorbar": {
             "outlinewidth": 0,
             "ticks": ""
            },
            "colorscale": [
             [
              0,
              "#0d0887"
             ],
             [
              0.1111111111111111,
              "#46039f"
             ],
             [
              0.2222222222222222,
              "#7201a8"
             ],
             [
              0.3333333333333333,
              "#9c179e"
             ],
             [
              0.4444444444444444,
              "#bd3786"
             ],
             [
              0.5555555555555556,
              "#d8576b"
             ],
             [
              0.6666666666666666,
              "#ed7953"
             ],
             [
              0.7777777777777778,
              "#fb9f3a"
             ],
             [
              0.8888888888888888,
              "#fdca26"
             ],
             [
              1,
              "#f0f921"
             ]
            ],
            "type": "heatmapgl"
           }
          ],
          "histogram": [
           {
            "marker": {
             "colorbar": {
              "outlinewidth": 0,
              "ticks": ""
             }
            },
            "type": "histogram"
           }
          ],
          "histogram2d": [
           {
            "colorbar": {
             "outlinewidth": 0,
             "ticks": ""
            },
            "colorscale": [
             [
              0,
              "#0d0887"
             ],
             [
              0.1111111111111111,
              "#46039f"
             ],
             [
              0.2222222222222222,
              "#7201a8"
             ],
             [
              0.3333333333333333,
              "#9c179e"
             ],
             [
              0.4444444444444444,
              "#bd3786"
             ],
             [
              0.5555555555555556,
              "#d8576b"
             ],
             [
              0.6666666666666666,
              "#ed7953"
             ],
             [
              0.7777777777777778,
              "#fb9f3a"
             ],
             [
              0.8888888888888888,
              "#fdca26"
             ],
             [
              1,
              "#f0f921"
             ]
            ],
            "type": "histogram2d"
           }
          ],
          "histogram2dcontour": [
           {
            "colorbar": {
             "outlinewidth": 0,
             "ticks": ""
            },
            "colorscale": [
             [
              0,
              "#0d0887"
             ],
             [
              0.1111111111111111,
              "#46039f"
             ],
             [
              0.2222222222222222,
              "#7201a8"
             ],
             [
              0.3333333333333333,
              "#9c179e"
             ],
             [
              0.4444444444444444,
              "#bd3786"
             ],
             [
              0.5555555555555556,
              "#d8576b"
             ],
             [
              0.6666666666666666,
              "#ed7953"
             ],
             [
              0.7777777777777778,
              "#fb9f3a"
             ],
             [
              0.8888888888888888,
              "#fdca26"
             ],
             [
              1,
              "#f0f921"
             ]
            ],
            "type": "histogram2dcontour"
           }
          ],
          "mesh3d": [
           {
            "colorbar": {
             "outlinewidth": 0,
             "ticks": ""
            },
            "type": "mesh3d"
           }
          ],
          "parcoords": [
           {
            "line": {
             "colorbar": {
              "outlinewidth": 0,
              "ticks": ""
             }
            },
            "type": "parcoords"
           }
          ],
          "pie": [
           {
            "automargin": true,
            "type": "pie"
           }
          ],
          "scatter": [
           {
            "marker": {
             "colorbar": {
              "outlinewidth": 0,
              "ticks": ""
             }
            },
            "type": "scatter"
           }
          ],
          "scatter3d": [
           {
            "line": {
             "colorbar": {
              "outlinewidth": 0,
              "ticks": ""
             }
            },
            "marker": {
             "colorbar": {
              "outlinewidth": 0,
              "ticks": ""
             }
            },
            "type": "scatter3d"
           }
          ],
          "scattercarpet": [
           {
            "marker": {
             "colorbar": {
              "outlinewidth": 0,
              "ticks": ""
             }
            },
            "type": "scattercarpet"
           }
          ],
          "scattergeo": [
           {
            "marker": {
             "colorbar": {
              "outlinewidth": 0,
              "ticks": ""
             }
            },
            "type": "scattergeo"
           }
          ],
          "scattergl": [
           {
            "marker": {
             "colorbar": {
              "outlinewidth": 0,
              "ticks": ""
             }
            },
            "type": "scattergl"
           }
          ],
          "scattermapbox": [
           {
            "marker": {
             "colorbar": {
              "outlinewidth": 0,
              "ticks": ""
             }
            },
            "type": "scattermapbox"
           }
          ],
          "scatterpolar": [
           {
            "marker": {
             "colorbar": {
              "outlinewidth": 0,
              "ticks": ""
             }
            },
            "type": "scatterpolar"
           }
          ],
          "scatterpolargl": [
           {
            "marker": {
             "colorbar": {
              "outlinewidth": 0,
              "ticks": ""
             }
            },
            "type": "scatterpolargl"
           }
          ],
          "scatterternary": [
           {
            "marker": {
             "colorbar": {
              "outlinewidth": 0,
              "ticks": ""
             }
            },
            "type": "scatterternary"
           }
          ],
          "surface": [
           {
            "colorbar": {
             "outlinewidth": 0,
             "ticks": ""
            },
            "colorscale": [
             [
              0,
              "#0d0887"
             ],
             [
              0.1111111111111111,
              "#46039f"
             ],
             [
              0.2222222222222222,
              "#7201a8"
             ],
             [
              0.3333333333333333,
              "#9c179e"
             ],
             [
              0.4444444444444444,
              "#bd3786"
             ],
             [
              0.5555555555555556,
              "#d8576b"
             ],
             [
              0.6666666666666666,
              "#ed7953"
             ],
             [
              0.7777777777777778,
              "#fb9f3a"
             ],
             [
              0.8888888888888888,
              "#fdca26"
             ],
             [
              1,
              "#f0f921"
             ]
            ],
            "type": "surface"
           }
          ],
          "table": [
           {
            "cells": {
             "fill": {
              "color": "#EBF0F8"
             },
             "line": {
              "color": "white"
             }
            },
            "header": {
             "fill": {
              "color": "#C8D4E3"
             },
             "line": {
              "color": "white"
             }
            },
            "type": "table"
           }
          ]
         },
         "layout": {
          "annotationdefaults": {
           "arrowcolor": "#2a3f5f",
           "arrowhead": 0,
           "arrowwidth": 1
          },
          "autotypenumbers": "strict",
          "coloraxis": {
           "colorbar": {
            "outlinewidth": 0,
            "ticks": ""
           }
          },
          "colorscale": {
           "diverging": [
            [
             0,
             "#8e0152"
            ],
            [
             0.1,
             "#c51b7d"
            ],
            [
             0.2,
             "#de77ae"
            ],
            [
             0.3,
             "#f1b6da"
            ],
            [
             0.4,
             "#fde0ef"
            ],
            [
             0.5,
             "#f7f7f7"
            ],
            [
             0.6,
             "#e6f5d0"
            ],
            [
             0.7,
             "#b8e186"
            ],
            [
             0.8,
             "#7fbc41"
            ],
            [
             0.9,
             "#4d9221"
            ],
            [
             1,
             "#276419"
            ]
           ],
           "sequential": [
            [
             0,
             "#0d0887"
            ],
            [
             0.1111111111111111,
             "#46039f"
            ],
            [
             0.2222222222222222,
             "#7201a8"
            ],
            [
             0.3333333333333333,
             "#9c179e"
            ],
            [
             0.4444444444444444,
             "#bd3786"
            ],
            [
             0.5555555555555556,
             "#d8576b"
            ],
            [
             0.6666666666666666,
             "#ed7953"
            ],
            [
             0.7777777777777778,
             "#fb9f3a"
            ],
            [
             0.8888888888888888,
             "#fdca26"
            ],
            [
             1,
             "#f0f921"
            ]
           ],
           "sequentialminus": [
            [
             0,
             "#0d0887"
            ],
            [
             0.1111111111111111,
             "#46039f"
            ],
            [
             0.2222222222222222,
             "#7201a8"
            ],
            [
             0.3333333333333333,
             "#9c179e"
            ],
            [
             0.4444444444444444,
             "#bd3786"
            ],
            [
             0.5555555555555556,
             "#d8576b"
            ],
            [
             0.6666666666666666,
             "#ed7953"
            ],
            [
             0.7777777777777778,
             "#fb9f3a"
            ],
            [
             0.8888888888888888,
             "#fdca26"
            ],
            [
             1,
             "#f0f921"
            ]
           ]
          },
          "colorway": [
           "#636efa",
           "#EF553B",
           "#00cc96",
           "#ab63fa",
           "#FFA15A",
           "#19d3f3",
           "#FF6692",
           "#B6E880",
           "#FF97FF",
           "#FECB52"
          ],
          "font": {
           "color": "#2a3f5f"
          },
          "geo": {
           "bgcolor": "white",
           "lakecolor": "white",
           "landcolor": "#E5ECF6",
           "showlakes": true,
           "showland": true,
           "subunitcolor": "white"
          },
          "hoverlabel": {
           "align": "left"
          },
          "hovermode": "closest",
          "mapbox": {
           "style": "light"
          },
          "paper_bgcolor": "white",
          "plot_bgcolor": "#E5ECF6",
          "polar": {
           "angularaxis": {
            "gridcolor": "white",
            "linecolor": "white",
            "ticks": ""
           },
           "bgcolor": "#E5ECF6",
           "radialaxis": {
            "gridcolor": "white",
            "linecolor": "white",
            "ticks": ""
           }
          },
          "scene": {
           "xaxis": {
            "backgroundcolor": "#E5ECF6",
            "gridcolor": "white",
            "gridwidth": 2,
            "linecolor": "white",
            "showbackground": true,
            "ticks": "",
            "zerolinecolor": "white"
           },
           "yaxis": {
            "backgroundcolor": "#E5ECF6",
            "gridcolor": "white",
            "gridwidth": 2,
            "linecolor": "white",
            "showbackground": true,
            "ticks": "",
            "zerolinecolor": "white"
           },
           "zaxis": {
            "backgroundcolor": "#E5ECF6",
            "gridcolor": "white",
            "gridwidth": 2,
            "linecolor": "white",
            "showbackground": true,
            "ticks": "",
            "zerolinecolor": "white"
           }
          },
          "shapedefaults": {
           "line": {
            "color": "#2a3f5f"
           }
          },
          "ternary": {
           "aaxis": {
            "gridcolor": "white",
            "linecolor": "white",
            "ticks": ""
           },
           "baxis": {
            "gridcolor": "white",
            "linecolor": "white",
            "ticks": ""
           },
           "bgcolor": "#E5ECF6",
           "caxis": {
            "gridcolor": "white",
            "linecolor": "white",
            "ticks": ""
           }
          },
          "title": {
           "x": 0.05
          },
          "xaxis": {
           "automargin": true,
           "gridcolor": "white",
           "linecolor": "white",
           "ticks": "",
           "title": {
            "standoff": 15
           },
           "zerolinecolor": "white",
           "zerolinewidth": 2
          },
          "yaxis": {
           "automargin": true,
           "gridcolor": "white",
           "linecolor": "white",
           "ticks": "",
           "title": {
            "standoff": 15
           },
           "zerolinecolor": "white",
           "zerolinewidth": 2
          }
         }
        },
        "uniformtext": {
         "minsize": 8,
         "mode": "hide"
        },
        "xaxis": {
         "linecolor": "rgba(150,150,150,0.8)",
         "linewidth": 1,
         "showgrid": false,
         "showline": true,
         "showspikes": true,
         "showticklabels": true,
         "spikecolor": "rgba(150,150,150,0.8)",
         "spikemode": "across",
         "spikesnap": "cursor",
         "tickfont": {
          "color": "#6c757d",
          "family": "Arial",
          "size": 12
         },
         "tickformat": "%",
         "ticks": "outside",
         "title": {
          "font": {
           "color": "rgb(150,150,150)",
           "family": "Arial",
           "size": 12
          },
          "text": "Inflasjon (år-over-år)"
         }
        },
        "yaxis": {
         "linecolor": "rgba(150,150,150,0.8)",
         "linewidth": 1,
         "showgrid": false,
         "showspikes": true,
         "showticklabels": true,
         "side": "left",
         "spikecolor": "rgba(150,150,150,0.5)",
         "spikethickness": 2,
         "tickfont": {
          "color": "rgba(150,150,150,0.6)",
          "family": "Arial",
          "size": 12
         },
         "title": {
          "font": {
           "color": "rgb(150,150,150)",
           "family": "Arial",
           "size": 12
          },
          "text": "Gjennomsnittlig P/E10 og volatilitet"
         }
        }
       }
      },
      "text/html": [
       "<div>                            <div id=\"48f07f97-3ddf-4caf-86fa-63f83e6680ae\" class=\"plotly-graph-div\" style=\"height:525px; width:100%;\"></div>            <script type=\"text/javascript\">                require([\"plotly\"], function(Plotly) {                    window.PLOTLYENV=window.PLOTLYENV || {};                                    if (document.getElementById(\"48f07f97-3ddf-4caf-86fa-63f83e6680ae\")) {                    Plotly.newPlot(                        \"48f07f97-3ddf-4caf-86fa-63f83e6680ae\",                        [{\"line\": {\"color\": \"#4582ec\", \"width\": 2}, \"mode\": \"lines\", \"name\": \"Infl. Vol. *\", \"type\": \"scatter\", \"x\": [-0.08684369134344908, -0.026437424929934675, -0.0015894385611002545, 0.010067301564445299, 0.01529419836576872, 0.021133065512040954, 0.026825339632643993, 0.032465076278071006, 0.040674313660241074, 0.05483000197519483, 0.07999780852386114, 0.1403072542446764], \"y\": [19.898798237054777, 18.98385075716874, 13.779651418258904, 9.86563841289662, 6.2042604260036605, 7.255635167291821, 7.693501141916393, 6.429545087071432, 7.442807038147666, 10.837902412233934, 13.531491217893818, 15.266833802582244]}, {\"line\": {\"color\": \"#f0ad4e\", \"width\": 2}, \"mode\": \"lines\", \"name\": \"Aksjer Vol.\", \"type\": \"scatter\", \"x\": [-0.08684369134344908, -0.026437424929934675, -0.0015894385611002545, 0.010067301564445299, 0.01529419836576872, 0.021133065512040954, 0.026825339632643993, 0.032465076278071006, 0.040674313660241074, 0.05483000197519483, 0.07999780852386114, 0.1403072542446764], \"y\": [18.09108256858491, 15.127141513724375, 12.121385817802402, 11.228089899638318, 11.445325816876307, 10.77959653929308, 9.290270108947011, 9.974968234350884, 11.747710357062857, 11.713526841760583, 11.052720563553372, 13.058576937122709]}, {\"line\": {\"color\": \"#02b875\", \"width\": 2}, \"mode\": \"lines\", \"name\": \"P/E 10\", \"type\": \"scatter\", \"x\": [-0.08684369134344908, -0.026437424929934675, -0.0015894385611002545, 0.010067301564445299, 0.01529419836576872, 0.021133065512040954, 0.026825339632643993, 0.032465076278071006, 0.040674313660241074, 0.05483000197519483, 0.07999780852386114, 0.1403072542446764], \"y\": [17.059420083835626, 20.712627433681995, 21.167602811126812, 21.666493418748495, 25.965344467502344, 24.494025367836024, 25.371440735044224, 22.629083778273824, 20.636423777067527, 20.152472246787376, 15.948007537318311, 12.709188430650464]}],                        {\"hoverdistance\": 100, \"hovermode\": \"x\", \"margin\": {\"b\": 0, \"l\": 0, \"r\": 0, \"t\": 0}, \"paper_bgcolor\": \"rgba(0, 0, 0, 0)\", \"plot_bgcolor\": \"rgba(0,0,0,0)\", \"showlegend\": false, \"spikedistance\": 1000, \"template\": {\"data\": {\"bar\": [{\"error_x\": {\"color\": \"#2a3f5f\"}, \"error_y\": {\"color\": \"#2a3f5f\"}, \"marker\": {\"line\": {\"color\": \"#E5ECF6\", \"width\": 0.5}}, \"type\": \"bar\"}], \"barpolar\": [{\"marker\": {\"line\": {\"color\": \"#E5ECF6\", \"width\": 0.5}}, \"type\": \"barpolar\"}], \"carpet\": [{\"aaxis\": {\"endlinecolor\": \"#2a3f5f\", \"gridcolor\": \"white\", \"linecolor\": \"white\", \"minorgridcolor\": \"white\", \"startlinecolor\": \"#2a3f5f\"}, \"baxis\": {\"endlinecolor\": \"#2a3f5f\", \"gridcolor\": \"white\", \"linecolor\": \"white\", \"minorgridcolor\": \"white\", \"startlinecolor\": \"#2a3f5f\"}, \"type\": \"carpet\"}], \"choropleth\": [{\"colorbar\": {\"outlinewidth\": 0, \"ticks\": \"\"}, \"type\": \"choropleth\"}], \"contour\": [{\"colorbar\": {\"outlinewidth\": 0, \"ticks\": \"\"}, \"colorscale\": [[0.0, \"#0d0887\"], [0.1111111111111111, \"#46039f\"], [0.2222222222222222, \"#7201a8\"], [0.3333333333333333, \"#9c179e\"], [0.4444444444444444, \"#bd3786\"], [0.5555555555555556, \"#d8576b\"], [0.6666666666666666, \"#ed7953\"], [0.7777777777777778, \"#fb9f3a\"], [0.8888888888888888, \"#fdca26\"], [1.0, \"#f0f921\"]], \"type\": \"contour\"}], \"contourcarpet\": [{\"colorbar\": {\"outlinewidth\": 0, \"ticks\": \"\"}, \"type\": \"contourcarpet\"}], \"heatmap\": [{\"colorbar\": {\"outlinewidth\": 0, \"ticks\": \"\"}, \"colorscale\": [[0.0, \"#0d0887\"], [0.1111111111111111, \"#46039f\"], [0.2222222222222222, \"#7201a8\"], [0.3333333333333333, \"#9c179e\"], [0.4444444444444444, \"#bd3786\"], [0.5555555555555556, \"#d8576b\"], [0.6666666666666666, \"#ed7953\"], [0.7777777777777778, \"#fb9f3a\"], [0.8888888888888888, \"#fdca26\"], [1.0, \"#f0f921\"]], \"type\": \"heatmap\"}], \"heatmapgl\": [{\"colorbar\": {\"outlinewidth\": 0, \"ticks\": \"\"}, \"colorscale\": [[0.0, \"#0d0887\"], [0.1111111111111111, \"#46039f\"], [0.2222222222222222, \"#7201a8\"], [0.3333333333333333, \"#9c179e\"], [0.4444444444444444, \"#bd3786\"], [0.5555555555555556, \"#d8576b\"], [0.6666666666666666, \"#ed7953\"], [0.7777777777777778, \"#fb9f3a\"], [0.8888888888888888, \"#fdca26\"], [1.0, \"#f0f921\"]], \"type\": \"heatmapgl\"}], \"histogram\": [{\"marker\": {\"colorbar\": {\"outlinewidth\": 0, \"ticks\": \"\"}}, \"type\": \"histogram\"}], \"histogram2d\": [{\"colorbar\": {\"outlinewidth\": 0, \"ticks\": \"\"}, \"colorscale\": [[0.0, \"#0d0887\"], [0.1111111111111111, \"#46039f\"], [0.2222222222222222, \"#7201a8\"], [0.3333333333333333, \"#9c179e\"], [0.4444444444444444, \"#bd3786\"], [0.5555555555555556, \"#d8576b\"], [0.6666666666666666, \"#ed7953\"], [0.7777777777777778, \"#fb9f3a\"], [0.8888888888888888, \"#fdca26\"], [1.0, \"#f0f921\"]], \"type\": \"histogram2d\"}], \"histogram2dcontour\": [{\"colorbar\": {\"outlinewidth\": 0, \"ticks\": \"\"}, \"colorscale\": [[0.0, \"#0d0887\"], [0.1111111111111111, \"#46039f\"], [0.2222222222222222, \"#7201a8\"], [0.3333333333333333, \"#9c179e\"], [0.4444444444444444, \"#bd3786\"], [0.5555555555555556, \"#d8576b\"], [0.6666666666666666, \"#ed7953\"], [0.7777777777777778, \"#fb9f3a\"], [0.8888888888888888, \"#fdca26\"], [1.0, \"#f0f921\"]], \"type\": \"histogram2dcontour\"}], \"mesh3d\": [{\"colorbar\": {\"outlinewidth\": 0, \"ticks\": \"\"}, \"type\": \"mesh3d\"}], \"parcoords\": [{\"line\": {\"colorbar\": {\"outlinewidth\": 0, \"ticks\": \"\"}}, \"type\": \"parcoords\"}], \"pie\": [{\"automargin\": true, \"type\": \"pie\"}], \"scatter\": [{\"marker\": {\"colorbar\": {\"outlinewidth\": 0, \"ticks\": \"\"}}, \"type\": \"scatter\"}], \"scatter3d\": [{\"line\": {\"colorbar\": {\"outlinewidth\": 0, \"ticks\": \"\"}}, \"marker\": {\"colorbar\": {\"outlinewidth\": 0, \"ticks\": \"\"}}, \"type\": \"scatter3d\"}], \"scattercarpet\": [{\"marker\": {\"colorbar\": {\"outlinewidth\": 0, \"ticks\": \"\"}}, \"type\": \"scattercarpet\"}], \"scattergeo\": [{\"marker\": {\"colorbar\": {\"outlinewidth\": 0, \"ticks\": \"\"}}, \"type\": \"scattergeo\"}], \"scattergl\": [{\"marker\": {\"colorbar\": {\"outlinewidth\": 0, \"ticks\": \"\"}}, \"type\": \"scattergl\"}], \"scattermapbox\": [{\"marker\": {\"colorbar\": {\"outlinewidth\": 0, \"ticks\": \"\"}}, \"type\": \"scattermapbox\"}], \"scatterpolar\": [{\"marker\": {\"colorbar\": {\"outlinewidth\": 0, \"ticks\": \"\"}}, \"type\": \"scatterpolar\"}], \"scatterpolargl\": [{\"marker\": {\"colorbar\": {\"outlinewidth\": 0, \"ticks\": \"\"}}, \"type\": \"scatterpolargl\"}], \"scatterternary\": [{\"marker\": {\"colorbar\": {\"outlinewidth\": 0, \"ticks\": \"\"}}, \"type\": \"scatterternary\"}], \"surface\": [{\"colorbar\": {\"outlinewidth\": 0, \"ticks\": \"\"}, \"colorscale\": [[0.0, \"#0d0887\"], [0.1111111111111111, \"#46039f\"], [0.2222222222222222, \"#7201a8\"], [0.3333333333333333, \"#9c179e\"], [0.4444444444444444, \"#bd3786\"], [0.5555555555555556, \"#d8576b\"], [0.6666666666666666, \"#ed7953\"], [0.7777777777777778, \"#fb9f3a\"], [0.8888888888888888, \"#fdca26\"], [1.0, \"#f0f921\"]], \"type\": \"surface\"}], \"table\": [{\"cells\": {\"fill\": {\"color\": \"#EBF0F8\"}, \"line\": {\"color\": \"white\"}}, \"header\": {\"fill\": {\"color\": \"#C8D4E3\"}, \"line\": {\"color\": \"white\"}}, \"type\": \"table\"}]}, \"layout\": {\"annotationdefaults\": {\"arrowcolor\": \"#2a3f5f\", \"arrowhead\": 0, \"arrowwidth\": 1}, \"autotypenumbers\": \"strict\", \"coloraxis\": {\"colorbar\": {\"outlinewidth\": 0, \"ticks\": \"\"}}, \"colorscale\": {\"diverging\": [[0, \"#8e0152\"], [0.1, \"#c51b7d\"], [0.2, \"#de77ae\"], [0.3, \"#f1b6da\"], [0.4, \"#fde0ef\"], [0.5, \"#f7f7f7\"], [0.6, \"#e6f5d0\"], [0.7, \"#b8e186\"], [0.8, \"#7fbc41\"], [0.9, \"#4d9221\"], [1, \"#276419\"]], \"sequential\": [[0.0, \"#0d0887\"], [0.1111111111111111, \"#46039f\"], [0.2222222222222222, \"#7201a8\"], [0.3333333333333333, \"#9c179e\"], [0.4444444444444444, \"#bd3786\"], [0.5555555555555556, \"#d8576b\"], [0.6666666666666666, \"#ed7953\"], [0.7777777777777778, \"#fb9f3a\"], [0.8888888888888888, \"#fdca26\"], [1.0, \"#f0f921\"]], \"sequentialminus\": [[0.0, \"#0d0887\"], [0.1111111111111111, \"#46039f\"], [0.2222222222222222, \"#7201a8\"], [0.3333333333333333, \"#9c179e\"], [0.4444444444444444, \"#bd3786\"], [0.5555555555555556, \"#d8576b\"], [0.6666666666666666, \"#ed7953\"], [0.7777777777777778, \"#fb9f3a\"], [0.8888888888888888, \"#fdca26\"], [1.0, \"#f0f921\"]]}, \"colorway\": [\"#636efa\", \"#EF553B\", \"#00cc96\", \"#ab63fa\", \"#FFA15A\", \"#19d3f3\", \"#FF6692\", \"#B6E880\", \"#FF97FF\", \"#FECB52\"], \"font\": {\"color\": \"#2a3f5f\"}, \"geo\": {\"bgcolor\": \"white\", \"lakecolor\": \"white\", \"landcolor\": \"#E5ECF6\", \"showlakes\": true, \"showland\": true, \"subunitcolor\": \"white\"}, \"hoverlabel\": {\"align\": \"left\"}, \"hovermode\": \"closest\", \"mapbox\": {\"style\": \"light\"}, \"paper_bgcolor\": \"white\", \"plot_bgcolor\": \"#E5ECF6\", \"polar\": {\"angularaxis\": {\"gridcolor\": \"white\", \"linecolor\": \"white\", \"ticks\": \"\"}, \"bgcolor\": \"#E5ECF6\", \"radialaxis\": {\"gridcolor\": \"white\", \"linecolor\": \"white\", \"ticks\": \"\"}}, \"scene\": {\"xaxis\": {\"backgroundcolor\": \"#E5ECF6\", \"gridcolor\": \"white\", \"gridwidth\": 2, \"linecolor\": \"white\", \"showbackground\": true, \"ticks\": \"\", \"zerolinecolor\": \"white\"}, \"yaxis\": {\"backgroundcolor\": \"#E5ECF6\", \"gridcolor\": \"white\", \"gridwidth\": 2, \"linecolor\": \"white\", \"showbackground\": true, \"ticks\": \"\", \"zerolinecolor\": \"white\"}, \"zaxis\": {\"backgroundcolor\": \"#E5ECF6\", \"gridcolor\": \"white\", \"gridwidth\": 2, \"linecolor\": \"white\", \"showbackground\": true, \"ticks\": \"\", \"zerolinecolor\": \"white\"}}, \"shapedefaults\": {\"line\": {\"color\": \"#2a3f5f\"}}, \"ternary\": {\"aaxis\": {\"gridcolor\": \"white\", \"linecolor\": \"white\", \"ticks\": \"\"}, \"baxis\": {\"gridcolor\": \"white\", \"linecolor\": \"white\", \"ticks\": \"\"}, \"bgcolor\": \"#E5ECF6\", \"caxis\": {\"gridcolor\": \"white\", \"linecolor\": \"white\", \"ticks\": \"\"}}, \"title\": {\"x\": 0.05}, \"xaxis\": {\"automargin\": true, \"gridcolor\": \"white\", \"linecolor\": \"white\", \"ticks\": \"\", \"title\": {\"standoff\": 15}, \"zerolinecolor\": \"white\", \"zerolinewidth\": 2}, \"yaxis\": {\"automargin\": true, \"gridcolor\": \"white\", \"linecolor\": \"white\", \"ticks\": \"\", \"title\": {\"standoff\": 15}, \"zerolinecolor\": \"white\", \"zerolinewidth\": 2}}}, \"uniformtext\": {\"minsize\": 8, \"mode\": \"hide\"}, \"xaxis\": {\"linecolor\": \"rgba(150,150,150,0.8)\", \"linewidth\": 1, \"showgrid\": false, \"showline\": true, \"showspikes\": true, \"showticklabels\": true, \"spikecolor\": \"rgba(150,150,150,0.8)\", \"spikemode\": \"across\", \"spikesnap\": \"cursor\", \"tickfont\": {\"color\": \"#6c757d\", \"family\": \"Arial\", \"size\": 12}, \"tickformat\": \"%\", \"ticks\": \"outside\", \"title\": {\"font\": {\"color\": \"rgb(150,150,150)\", \"family\": \"Arial\", \"size\": 12}, \"text\": \"Inflasjon (\\u00e5r-over-\\u00e5r)\"}}, \"yaxis\": {\"linecolor\": \"rgba(150,150,150,0.8)\", \"linewidth\": 1, \"showgrid\": false, \"showspikes\": true, \"showticklabels\": true, \"side\": \"left\", \"spikecolor\": \"rgba(150,150,150,0.5)\", \"spikethickness\": 2, \"tickfont\": {\"color\": \"rgba(150,150,150,0.6)\", \"family\": \"Arial\", \"size\": 12}, \"title\": {\"font\": {\"color\": \"rgb(150,150,150)\", \"family\": \"Arial\", \"size\": 12}, \"text\": \"Gjennomsnittlig P/E10 og volatilitet\"}}},                        {\"responsive\": true}                    ).then(function(){\n",
       "                            \n",
       "var gd = document.getElementById('48f07f97-3ddf-4caf-86fa-63f83e6680ae');\n",
       "var x = new MutationObserver(function (mutations, observer) {{\n",
       "        var display = window.getComputedStyle(gd).display;\n",
       "        if (!display || display === 'none') {{\n",
       "            console.log([gd, 'removed!']);\n",
       "            Plotly.purge(gd);\n",
       "            observer.disconnect();\n",
       "        }}\n",
       "}});\n",
       "\n",
       "// Listen for the removal of the full notebook cells\n",
       "var notebookContainer = gd.closest('#notebook-container');\n",
       "if (notebookContainer) {{\n",
       "    x.observe(notebookContainer, {childList: true});\n",
       "}}\n",
       "\n",
       "// Listen for the clearing of the current output cell\n",
       "var outputEl = gd.closest('.output');\n",
       "if (outputEl) {{\n",
       "    x.observe(outputEl, {childList: true});\n",
       "}}\n",
       "\n",
       "                        })                };                });            </script>        </div>"
      ]
     },
     "metadata": {},
     "output_type": "display_data"
    }
   ],
   "source": [
    "dataofinterest = [\"Infl. Vol. *\", \"Aksjer Vol.\", \"P/E 10\"]\n",
    "plotdata = df.groupby([\"bin_mean\"])[dataofinterest].describe()\n",
    "cols = [\"#4582ec\", \"#f0ad4e\", \"#02b875\"]\n",
    "xs = plotdata.index/100\n",
    "\n",
    "fig = go.Figure()\n",
    "\n",
    "color_n = 0\n",
    "\n",
    "for c in dataofinterest:\n",
    "    fig.add_trace(go.Scatter(\n",
    "            x=xs, \n",
    "            y=plotdata[c][\"mean\"],\n",
    "            mode='lines',\n",
    "            name = str(c),\n",
    "            line=dict(width=2, color=cols[color_n]),\n",
    "    ))\n",
    "    \n",
    "    color_n += 1\n",
    "    \n",
    "fig.update_layout(showlegend=False,\n",
    "                  xaxis=dict(title=\"Inflasjon (år-over-år)\",\n",
    "                            showline=True,\n",
    "                            showgrid=False,\n",
    "                            showticklabels=True,\n",
    "                            tickformat= '%',\n",
    "                            #tickangle=-90,\n",
    "                            linecolor=\"rgba(150,150,150,0.8)\",\n",
    "                            linewidth=1,\n",
    "                            ticks=\"outside\",\n",
    "                            tickfont=dict(family=\"Arial\", size=12, color=\"#6c757d\"),\n",
    "                            titlefont=dict(family=\"Arial\", size=12, color=\"rgb(150,150,150)\"),),\n",
    "                  yaxis=dict(title=\"Gjennomsnittlig P/E10 og volatilitet\",\n",
    "                             titlefont=dict(family=\"Arial\", size=12, color=\"rgb(150,150,150)\"),\n",
    "                            side=\"left\",\n",
    "                             linewidth=1,\n",
    "                            linecolor=\"rgba(150,150,150,0.8)\",\n",
    "                            showgrid=False,\n",
    "                            showticklabels=True,\n",
    "                            tickfont=dict(family=\"Arial\", size=12, color=\"rgba(150,150,150,0.6)\")),\n",
    "                  plot_bgcolor=\"rgba(0,0,0,0)\", paper_bgcolor='rgba(0, 0, 0, 0)',\n",
    "                  margin=dict(l=0, r=0, t=0, b=0),\n",
    "                  hovermode = \"x\"\n",
    "                 )\n",
    "\n",
    "fig.update_xaxes(showspikes=True, spikecolor=\"rgba(150,150,150,0.8)\", spikesnap=\"cursor\", spikemode=\"across\"),\n",
    "fig.update_yaxes(showspikes=True, spikecolor=\"rgba(150,150,150,0.5)\", spikethickness=2)\n",
    "\n",
    "\n",
    "fig.update_layout(uniformtext_minsize=8, uniformtext_mode='hide',\n",
    "                 spikedistance=1000, hoverdistance=100,\n",
    "                 )\n",
    "\n",
    "\n",
    "fig.show()"
   ]
  }
 ],
 "metadata": {
  "kernelspec": {
   "display_name": "Python 3",
   "language": "python",
   "name": "python3"
  },
  "language_info": {
   "codemirror_mode": {
    "name": "ipython",
    "version": 3
   },
   "file_extension": ".py",
   "mimetype": "text/x-python",
   "name": "python",
   "nbconvert_exporter": "python",
   "pygments_lexer": "ipython3",
   "version": "3.7.3"
  }
 },
 "nbformat": 4,
 "nbformat_minor": 4
}
